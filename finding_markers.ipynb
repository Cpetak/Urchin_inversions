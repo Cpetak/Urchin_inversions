{
 "cells": [
  {
   "cell_type": "code",
   "execution_count": 1,
   "id": "c74b9865",
   "metadata": {},
   "outputs": [],
   "source": [
    "import pandas as pd\n",
    "import matplotlib.pyplot as plt\n",
    "import numpy as np\n",
    "from collections import Counter\n",
    "from io import StringIO"
   ]
  },
  {
   "cell_type": "code",
   "execution_count": 2,
   "id": "fc873c1a",
   "metadata": {},
   "outputs": [],
   "source": [
    "def contains_pattern(row, pattern):\n",
    "      return any(pattern in str(cell) for cell in row)\n",
    "def remove_after_colon(s):\n",
    "      return s.split(':')[0]\n",
    "\n",
    "def process_df(filename):\n",
    "  #read and clean\n",
    "  with open(filename) as f:\n",
    "    lines = [line for line in f if not line.startswith('##')]\n",
    "\n",
    "  # Parse the filtered content with pandas\n",
    "  q = pd.read_csv(StringIO(''.join(lines)),sep=\"\\t\")\n",
    "\n",
    "  #q=pd.read_csv(filename,comment='##',sep=\"\\t\")\n",
    "  q.drop(columns=[\"#CHROM\",\"ID\",\"QUAL\",\"FILTER\",\"INFO\",\"FORMAT\"],inplace=True)\n",
    "  col_names=[]\n",
    "  for c in q.columns:\n",
    "      if c[0]==\"/\":\n",
    "        n=c.split(\"/\")[7]\n",
    "        s=n.split(\"_\")[1]\n",
    "        col_names.append(s)\n",
    "      else:\n",
    "        col_names.append(c)\n",
    "  q.columns=col_names\n",
    "\n",
    "  #only SNP and biallelic\n",
    "  df_filtered = q[q['REF'].str.len() == 1]\n",
    "  df_filtered = df_filtered[df_filtered['ALT'].str.len() == 1]\n",
    "\n",
    "  #take out quality info, leave just genotype\n",
    "  df_filtered['POS'] = df_filtered['POS'].astype(str)\n",
    "  df_filtered = df_filtered.applymap(remove_after_colon)\n",
    "\n",
    "  #remove heterozygotes\n",
    "  pattern = \"0/1\"\n",
    "  df_filtered = df_filtered[~df_filtered.apply(lambda row: contains_pattern(row, pattern), axis=1)]\n",
    "\n",
    "  # Replace \"0\" with values from \"REF\" column\n",
    "  for col in df_filtered.columns[3:]:\n",
    "    df_filtered[col] = df_filtered.apply(lambda row: row['REF'] if row[col] == '0/0' else row[col], axis=1)\n",
    "    df_filtered[col] = df_filtered.apply(lambda row: row['ALT'] if row[col] == '1/1' else row[col], axis=1)\n",
    "\n",
    "  #count precision of marker\n",
    "  bases=[]\n",
    "  freq = []\n",
    "  for index, row in df_filtered.iterrows():\n",
    "     most_c = Counter(row[3:]).most_common(1)[0] #('G', 15)\n",
    "     bases.append(most_c[0])\n",
    "     freq.append(most_c[1]/len(row[3:]))\n",
    "\n",
    "  df_filtered=df_filtered.iloc[:,:3]\n",
    "  df_filtered[\"val\"]=bases\n",
    "  df_filtered[\"percentage\"]=freq\n",
    "\n",
    "  #keep rows where everyone is the same\n",
    "  #q=df_filtered[df_filtered[df_filtered.columns[3:]].nunique(axis=1) == 1]\n",
    "\n",
    "  return df_filtered"
   ]
  },
  {
   "cell_type": "code",
   "execution_count": 8,
   "id": "89dcb8e7",
   "metadata": {},
   "outputs": [
    {
     "name": "stderr",
     "output_type": "stream",
     "text": [
      "/tmp/ipykernel_3728484/992128992.py:32: FutureWarning: DataFrame.applymap has been deprecated. Use DataFrame.map instead.\n",
      "  df_filtered = df_filtered.applymap(remove_after_colon)\n"
     ]
    },
    {
     "name": "stdout",
     "output_type": "stream",
     "text": [
      "             POS REF ALT val  percentage\n",
      "0          41860   T   A   T         0.6\n",
      "4          41963   G   A   G         0.8\n",
      "5          41965   A   T   A         1.0\n",
      "7          42003   A   C   A         1.0\n",
      "11         42064   A   T   A         0.8\n",
      "...          ...  ..  ..  ..         ...\n",
      "261875  52413291   A   G   A         1.0\n",
      "261877  52413444   A   T   T         1.0\n",
      "261879  52413634   C   A   C         1.0\n",
      "261881  52413937   T   A   T         1.0\n",
      "261882  52414011   G   T   G         1.0\n",
      "\n",
      "[80060 rows x 5 columns]\n"
     ]
    },
    {
     "name": "stderr",
     "output_type": "stream",
     "text": [
      "/tmp/ipykernel_3728484/992128992.py:32: FutureWarning: DataFrame.applymap has been deprecated. Use DataFrame.map instead.\n",
      "  df_filtered = df_filtered.applymap(remove_after_colon)\n"
     ]
    },
    {
     "name": "stdout",
     "output_type": "stream",
     "text": [
      "             POS REF ALT val  percentage\n",
      "152        75883   A   G   G    1.000000\n",
      "154        76984   T   G   G    0.976744\n",
      "155        76989   C   A   A    0.941860\n",
      "158        77466   C   T   T    1.000000\n",
      "159        77533   C   A   A    1.000000\n",
      "...          ...  ..  ..  ..         ...\n",
      "261861  52406145   G   A   A    0.930233\n",
      "261864  52406293   A   C   C    0.906977\n",
      "261870  52413021   A   C   C    0.976744\n",
      "261874  52413278   A   G   G    1.000000\n",
      "261877  52413444   A   T   T    1.000000\n",
      "\n",
      "[3152 rows x 5 columns]\n"
     ]
    }
   ],
   "source": [
    "#Note: needs subsetted vcfs. Described in Part 2 nucleotide diversity section.\n",
    "\n",
    "mypath='/gpfs1/home/c/p/cpetak/WGS/Urchin_inversions/genotype_spec_vcfs/'\n",
    "mychr='NW_022145606.1'\n",
    "posi='_16610900_16737625_'#_30779143_31460853_'#'_29427741_29776196_'#'_8291260_9094120_' #'_28950395_29566247_' #'_33842803_34582517_' #'_14219351_14298524_' #'_12702886_16793794_' # #\n",
    "\n",
    "q=process_df(mypath+mychr+posi+'homoq.vcf')\n",
    "print(q) #most common base and it's frequency\n",
    "\n",
    "p=process_df(mypath+mychr+posi+'homop.vcf')\n",
    "print(p) #most common base and it's frequency\n",
    "\n"
   ]
  },
  {
   "cell_type": "code",
   "execution_count": 9,
   "id": "e90eb0f4",
   "metadata": {},
   "outputs": [
    {
     "name": "stdout",
     "output_type": "stream",
     "text": [
      "          POS REF ALT  q  Frequency among q  p  Frequency among p\n",
      "960  16717165   A   G  A                1.0  G           1.000000\n",
      "961  16718391   G   T  G                1.0  T           0.988372\n",
      "962  16718762   T   C  T                1.0  C           0.988372\n",
      "963  16718803   A   G  A                1.0  G           1.000000\n",
      "964  16718979   A   G  A                1.0  G           0.988372\n",
      "965  16719243   C   T  C                1.0  T           0.988372\n",
      "966  16719308   G   A  G                1.0  A           1.000000\n",
      "967  16719315   G   A  G                1.0  A           1.000000\n",
      "968  16719316   T   C  T                1.0  C           1.000000\n",
      "969  16719387   C   G  C                1.0  G           1.000000\n",
      "970  16719657   A   T  A                1.0  T           1.000000\n",
      "971  16719680   C   T  C                1.0  T           1.000000\n",
      "972  16719723   C   G  C                1.0  G           0.988372\n",
      "973  16719727   A   T  A                1.0  T           0.988372\n",
      "974  16719734   C   A  C                1.0  A           1.000000\n",
      "975  16719796   C   T  C                1.0  T           1.000000\n",
      "976  16719826   A   C  A                1.0  C           1.000000\n",
      "977  16719852   A   T  A                1.0  T           1.000000\n",
      "978  16720014   A   T  A                1.0  T           1.000000\n",
      "979  16720107   T   A  T                1.0  A           1.000000\n",
      "980  16720174   G   C  G                1.0  C           0.930233\n",
      "981  16720826   C   G  C                1.0  G           0.930233\n",
      "982  16721084   C   T  C                1.0  T           1.000000\n",
      "983  16721217   A   T  A                1.0  T           1.000000\n",
      "984  16721251   T   G  T                1.0  G           0.988372\n",
      "985  16721358   A   T  A                1.0  T           1.000000\n",
      "986  16721451   T   C  T                1.0  C           1.000000\n",
      "987  16721618   C   T  C                1.0  T           1.000000\n",
      "988  16721627   G   A  G                1.0  A           1.000000\n",
      "989  16722119   G   A  G                1.0  A           0.941860\n",
      "990  16722378   T   A  T                1.0  A           1.000000\n",
      "991  16722696   C   T  C                1.0  T           0.976744\n",
      "992  16724205   C   A  C                1.0  A           0.825581\n",
      "993  16724340   G   A  G                1.0  A           0.965116\n",
      "994  16724541   G   A  G                1.0  A           1.000000\n"
     ]
    }
   ],
   "source": [
    "#out of all the positions on this chromosome, these are consistenlty different between the orientations.\n",
    "\n",
    "merged_df = pd.merge(q, p, on='POS', how='inner') #only keep positions that are present in both p and q\n",
    "nonuniqe=merged_df[merged_df[merged_df.columns[[3,7]]].nunique(axis=1) != 1] #only keep positions that are different between p and q\n",
    "df = nonuniqe[~nonuniqe.apply(lambda row: contains_pattern(row, \"/\"), axis=1)]\n",
    "df = df.drop(['REF_y', 'ALT_y'], axis=1)\n",
    "df = df.rename(columns={'REF_x': 'REF','ALT_x': 'ALT', 'val_x': 'q', 'val_y': 'p','percentage_x': 'Frequency among q','percentage_y': 'Frequency among p' })\n",
    "\n",
    "print(df)\n",
    "\n",
    "df = df[df[\"Frequency among q\"]>0.9]\n",
    "df = df[df[\"Frequency among p\"]>0.9]\n",
    "\n",
    "df.to_csv(f'{mypath+mychr+posi}_snp_markers.csv', index=False)"
   ]
  },
  {
   "cell_type": "code",
   "execution_count": null,
   "id": "1dc81124",
   "metadata": {},
   "outputs": [
    {
     "name": "stdout",
     "output_type": "stream",
     "text": [
      "Processed: NW_022145600.1_33842803_34582517_snp_markers.csv\n",
      "Processed: NW_022145597.1_14219351_14298524_snp_markers.csv\n",
      "Processed: NW_022145594.1_39429440_42445994_snp_markers.csv\n",
      "Processed: NW_022145594.1_12702886_16793794_snp_markers.csv\n",
      "Processed: NW_022145610.1_30779143_31460853_snp_markers.csv\n",
      "Processed: NW_022145606.1_16610900_16737625_snp_markers.csv\n",
      "Processed: NW_022145601.1_28950395_29566247_snp_markers.csv\n",
      "Processed: NW_022145609.1_29427741_29776196_snp_markers.csv\n",
      "Processed: NW_022145603.1_8291260_9094120_snp_markers.csv\n"
     ]
    }
   ],
   "source": [
    "#Round frequency values\n",
    "\n",
    "import pandas as pd\n",
    "import glob\n",
    "import os\n",
    "\n",
    "# Find all CSV files that contain 'snp_marker' in the filename\n",
    "csv_files = glob.glob(\"*snp_marker*.csv\")\n",
    "\n",
    "for file in csv_files:\n",
    "    # Read the CSV file\n",
    "    df = pd.read_csv(file)\n",
    "    \n",
    "    # Round all numeric columns to 3 decimal places\n",
    "    df = df.round(3)\n",
    "    \n",
    "    # Save it back (overwrite original)\n",
    "    df.to_csv(file, index=False)\n",
    "\n",
    "    print(f\"Processed: {file}\")\n"
   ]
  },
  {
   "cell_type": "code",
   "execution_count": null,
   "id": "6a16dec3",
   "metadata": {},
   "outputs": [],
   "source": []
  }
 ],
 "metadata": {
  "kernelspec": {
   "display_name": "wgs",
   "language": "python",
   "name": "python3"
  },
  "language_info": {
   "codemirror_mode": {
    "name": "ipython",
    "version": 3
   },
   "file_extension": ".py",
   "mimetype": "text/x-python",
   "name": "python",
   "nbconvert_exporter": "python",
   "pygments_lexer": "ipython3",
   "version": "3.12.3"
  }
 },
 "nbformat": 4,
 "nbformat_minor": 5
}
